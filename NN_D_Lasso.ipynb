{
  "nbformat": 4,
  "nbformat_minor": 0,
  "metadata": {
    "colab": {
      "provenance": [],
      "include_colab_link": true
    },
    "kernelspec": {
      "name": "python3",
      "display_name": "Python 3"
    },
    "language_info": {
      "name": "python"
    }
  },
  "cells": [
    {
      "cell_type": "markdown",
      "metadata": {
        "id": "view-in-github",
        "colab_type": "text"
      },
      "source": [
        "<a href=\"https://colab.research.google.com/github/sreekarannaluru/Wildfire-Competition/blob/main/NN_D_Lasso.ipynb\" target=\"_parent\"><img src=\"https://colab.research.google.com/assets/colab-badge.svg\" alt=\"Open In Colab\"/></a>"
      ]
    },
    {
      "cell_type": "code",
      "execution_count": null,
      "metadata": {
        "id": "apyD6wPaU_vu"
      },
      "outputs": [],
      "source": [
        "import pandas as pd\n",
        "import numpy as np\n",
        "import math\n",
        "import matplotlib.pyplot as plt\n",
        "from sklearn.model_selection import train_test_split\n",
        "from tensorflow.keras import layers, models, datasets\n",
        "from sklearn import preprocessing\n",
        "from keras.optimizers import Adam"
      ]
    },
    {
      "cell_type": "code",
      "source": [
        "# Load the dataset\n",
        "df_d = pd.read_excel('/content/Denver.xlsx')"
      ],
      "metadata": {
        "id": "t0di2DZfgWho"
      },
      "execution_count": null,
      "outputs": []
    },
    {
      "cell_type": "code",
      "source": [
        "del df_d[\"severerisk\"]"
      ],
      "metadata": {
        "id": "_WqMFg0RjZQq"
      },
      "execution_count": null,
      "outputs": []
    },
    {
      "cell_type": "code",
      "source": [
        "# Normalize the variables\n",
        "df_d = (df_d - df_d.min())/(df_d.max() - df_d.min())"
      ],
      "metadata": {
        "id": "qt137oxTW4FK"
      },
      "execution_count": null,
      "outputs": []
    },
    {
      "cell_type": "markdown",
      "source": [
        "##### Important Variables:  NDVI + SurfPS + Dust + SoilMoisture + LAI + Canopy_h2o + Transpire + brightness + tempmin + humidity + precipprob + snow + snowdepth + windgust + windspeed + winddir + sealevelpressure + visibility + solarradiation + uvindex + moonphase"
      ],
      "metadata": {
        "id": "eH60QgqLfJ1W"
      }
    },
    {
      "cell_type": "code",
      "source": [
        "# Use columbus data as test data.\n",
        "df_c = pd.read_excel(\"/content/Columbus.xlsx\")"
      ],
      "metadata": {
        "id": "c5qdCYkcBpeQ"
      },
      "execution_count": null,
      "outputs": []
    },
    {
      "cell_type": "code",
      "source": [
        "del df_c[\"severerisk\"]"
      ],
      "metadata": {
        "id": "WM4-hbuGBpX3"
      },
      "execution_count": null,
      "outputs": []
    },
    {
      "cell_type": "code",
      "source": [
        "# Normalize the variables\n",
        "df_c = (df_c - df_c.min())/(df_c.max() - df_c.min())"
      ],
      "metadata": {
        "id": "_yDbDZNWBpQ0"
      },
      "execution_count": null,
      "outputs": []
    },
    {
      "cell_type": "code",
      "source": [
        "X = df_d.loc[:,['NDVI', 'SurfPS', 'Dust', 'SoilMoisture', 'LAI', 'Canopy_h2o', 'Transpire','tempmin','humidity','precipprob', 'snow', 'snowdepth','windgust',\n",
        "                'windspeed', 'winddir', 'sealevelpressure', 'visibility', 'solarradiation',  'uvindex', 'moonphase']].values\n",
        "y = df_d.iloc[:,14].values"
      ],
      "metadata": {
        "id": "Tc8MmzoLhBAv"
      },
      "execution_count": null,
      "outputs": []
    },
    {
      "cell_type": "code",
      "source": [
        "# Create a sequential model\n",
        "model = models.Sequential()\n",
        "\n",
        "# Add the input layer with the specified number of features\n",
        "model.add(layers.Dense(32, input_dim= X.shape[1], activation='relu'))\n",
        "\n",
        "# Add one or more hidden layers\n",
        "model.add(layers.Dense(16, activation='relu'))\n",
        "model.add(layers.Dense(8, activation='relu'))\n",
        "\n",
        "# Add the output layer with a single neuron (since this is a regression problem)\n",
        "model.add(layers.Dense(1))"
      ],
      "metadata": {
        "id": "R9jMYPS3f0z1"
      },
      "execution_count": null,
      "outputs": []
    },
    {
      "cell_type": "code",
      "source": [
        "# Compile the model\n",
        "model.compile(optimizer='adam', loss='mean_squared_error', metrics=['mean_absolute_error'])\n",
        "\n",
        "# Train the model\n",
        "history = model.fit(X, y, epochs=25, batch_size=32, validation_data=(X_t, y_t))\n"
      ],
      "metadata": {
        "colab": {
          "base_uri": "https://localhost:8080/"
        },
        "id": "w_AeFYwkf06R",
        "outputId": "85d262bc-cf4a-4e6a-f0e7-a29d41923253"
      },
      "execution_count": null,
      "outputs": [
        {
          "output_type": "stream",
          "name": "stdout",
          "text": [
            "Epoch 1/25\n",
            "4/4 [==============================] - 2s 99ms/step - loss: 0.1836 - mean_absolute_error: 0.3686 - val_loss: 0.2824 - val_mean_absolute_error: 0.4877\n",
            "Epoch 2/25\n",
            "4/4 [==============================] - 0s 28ms/step - loss: 0.1571 - mean_absolute_error: 0.3339 - val_loss: 0.2542 - val_mean_absolute_error: 0.4582\n",
            "Epoch 3/25\n",
            "4/4 [==============================] - 0s 26ms/step - loss: 0.1373 - mean_absolute_error: 0.3056 - val_loss: 0.2263 - val_mean_absolute_error: 0.4288\n",
            "Epoch 4/25\n",
            "4/4 [==============================] - 0s 27ms/step - loss: 0.1185 - mean_absolute_error: 0.2756 - val_loss: 0.1980 - val_mean_absolute_error: 0.3974\n",
            "Epoch 5/25\n",
            "4/4 [==============================] - 0s 25ms/step - loss: 0.0987 - mean_absolute_error: 0.2396 - val_loss: 0.1638 - val_mean_absolute_error: 0.3555\n",
            "Epoch 6/25\n",
            "4/4 [==============================] - 0s 25ms/step - loss: 0.0802 - mean_absolute_error: 0.2041 - val_loss: 0.1253 - val_mean_absolute_error: 0.3026\n",
            "Epoch 7/25\n",
            "4/4 [==============================] - 0s 28ms/step - loss: 0.0659 - mean_absolute_error: 0.1773 - val_loss: 0.0922 - val_mean_absolute_error: 0.2489\n",
            "Epoch 8/25\n",
            "4/4 [==============================] - 0s 25ms/step - loss: 0.0579 - mean_absolute_error: 0.1634 - val_loss: 0.0690 - val_mean_absolute_error: 0.2059\n",
            "Epoch 9/25\n",
            "4/4 [==============================] - 0s 29ms/step - loss: 0.0559 - mean_absolute_error: 0.1688 - val_loss: 0.0563 - val_mean_absolute_error: 0.1818\n",
            "Epoch 10/25\n",
            "4/4 [==============================] - 0s 45ms/step - loss: 0.0548 - mean_absolute_error: 0.1724 - val_loss: 0.0528 - val_mean_absolute_error: 0.1758\n",
            "Epoch 11/25\n",
            "4/4 [==============================] - 0s 27ms/step - loss: 0.0546 - mean_absolute_error: 0.1735 - val_loss: 0.0525 - val_mean_absolute_error: 0.1752\n",
            "Epoch 12/25\n",
            "4/4 [==============================] - 0s 20ms/step - loss: 0.0529 - mean_absolute_error: 0.1690 - val_loss: 0.0552 - val_mean_absolute_error: 0.1804\n",
            "Epoch 13/25\n",
            "4/4 [==============================] - 0s 16ms/step - loss: 0.0508 - mean_absolute_error: 0.1619 - val_loss: 0.0579 - val_mean_absolute_error: 0.1857\n",
            "Epoch 14/25\n",
            "4/4 [==============================] - 0s 21ms/step - loss: 0.0496 - mean_absolute_error: 0.1575 - val_loss: 0.0616 - val_mean_absolute_error: 0.1927\n",
            "Epoch 15/25\n",
            "4/4 [==============================] - 0s 15ms/step - loss: 0.0484 - mean_absolute_error: 0.1527 - val_loss: 0.0639 - val_mean_absolute_error: 0.1975\n",
            "Epoch 16/25\n",
            "4/4 [==============================] - 0s 18ms/step - loss: 0.0481 - mean_absolute_error: 0.1507 - val_loss: 0.0650 - val_mean_absolute_error: 0.2000\n",
            "Epoch 17/25\n",
            "4/4 [==============================] - 0s 20ms/step - loss: 0.0475 - mean_absolute_error: 0.1491 - val_loss: 0.0627 - val_mean_absolute_error: 0.1961\n",
            "Epoch 18/25\n",
            "4/4 [==============================] - 0s 19ms/step - loss: 0.0465 - mean_absolute_error: 0.1482 - val_loss: 0.0588 - val_mean_absolute_error: 0.1886\n",
            "Epoch 19/25\n",
            "4/4 [==============================] - 0s 21ms/step - loss: 0.0460 - mean_absolute_error: 0.1494 - val_loss: 0.0544 - val_mean_absolute_error: 0.1804\n",
            "Epoch 20/25\n",
            "4/4 [==============================] - 0s 25ms/step - loss: 0.0453 - mean_absolute_error: 0.1510 - val_loss: 0.0521 - val_mean_absolute_error: 0.1770\n",
            "Epoch 21/25\n",
            "4/4 [==============================] - 0s 17ms/step - loss: 0.0447 - mean_absolute_error: 0.1506 - val_loss: 0.0520 - val_mean_absolute_error: 0.1772\n",
            "Epoch 22/25\n",
            "4/4 [==============================] - 0s 18ms/step - loss: 0.0441 - mean_absolute_error: 0.1494 - val_loss: 0.0527 - val_mean_absolute_error: 0.1788\n",
            "Epoch 23/25\n",
            "4/4 [==============================] - 0s 20ms/step - loss: 0.0437 - mean_absolute_error: 0.1480 - val_loss: 0.0535 - val_mean_absolute_error: 0.1807\n",
            "Epoch 24/25\n",
            "4/4 [==============================] - 0s 21ms/step - loss: 0.0433 - mean_absolute_error: 0.1467 - val_loss: 0.0538 - val_mean_absolute_error: 0.1813\n",
            "Epoch 25/25\n",
            "4/4 [==============================] - 0s 21ms/step - loss: 0.0429 - mean_absolute_error: 0.1458 - val_loss: 0.0540 - val_mean_absolute_error: 0.1819\n"
          ]
        }
      ]
    },
    {
      "cell_type": "code",
      "source": [
        "# Evaluate the model on test data\n",
        "# Reverse normalizing the output. 58.9 is the difference between maximum and minimum value of brightness.\n",
        "test_loss, test_err = model.evaluate(X_t, y_t, verbose=2)\n",
        "print('Mean Squared Error:',  math.sqrt(test_loss*108)*58.9)\n",
        "print('Mean Absolute Error:', 58.9*test_err)"
      ],
      "metadata": {
        "colab": {
          "base_uri": "https://localhost:8080/"
        },
        "id": "4GJCI28ef0_f",
        "outputId": "05d04dfb-5751-48d3-f7d1-72c17b100641"
      },
      "execution_count": null,
      "outputs": [
        {
          "output_type": "stream",
          "name": "stdout",
          "text": [
            "4/4 - 0s - loss: 0.0540 - mean_absolute_error: 0.1819 - 32ms/epoch - 8ms/step\n",
            "Mean Squared Error: 142.2809110113685\n",
            "Mean Absolute Error: 10.712333372235298\n"
          ]
        }
      ]
    },
    {
      "cell_type": "code",
      "source": [
        "#Automatically capturing losses from each epoch\n",
        "val_loss = history.history['val_loss']\n",
        "\n",
        "for i in range(0, len(val_loss)):\n",
        "  val_loss[i] = (math.sqrt((val_loss[i])*108)*58.9)\n",
        "  \n",
        "\n",
        "\n",
        "#Plot the loses\n",
        "plt.plot(val_loss, label='Validation Loss')\n",
        "plt.xlabel('Epoch')\n",
        "plt.ylabel('Test_MSE')\n",
        "plt.legend()\n",
        "plt.show()"
      ],
      "metadata": {
        "colab": {
          "base_uri": "https://localhost:8080/",
          "height": 449
        },
        "id": "jaTMl1SsfhKP",
        "outputId": "3e0d022f-21e4-4d0b-ded5-188bea16f74e"
      },
      "execution_count": null,
      "outputs": [
        {
          "output_type": "display_data",
          "data": {
            "text/plain": [
              "<Figure size 640x480 with 1 Axes>"
            ],
            "image/png": "[encoded data removed]"
          },
          "metadata": {}
        }
      ]
    },
    {
      "cell_type": "markdown",
      "source": [
        "### Future work and recommendations.\n",
        "\n",
        "##### 1) NN is a great tool in understanding wildfire and we want to improve our model.\n",
        "##### 2) Adding more variables and improving test accuracy.\n",
        "##### 3) Integrating these results in dashboard which is easy to explain.\n",
        "##### 4) Consulting experts in the domain to built robust models.\n",
        "##### 5) Integration with GIS systems\n",
        "##### 6) Closing following the work being done by people in academia and startups in this space.\n"
      ],
      "metadata": {
        "id": "wc6XSKF2cMfX"
      }
    }
  ]
}