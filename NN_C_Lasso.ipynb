{
  "nbformat": 4,
  "nbformat_minor": 0,
  "metadata": {
    "colab": {
      "provenance": [],
      "include_colab_link": true
    },
    "kernelspec": {
      "name": "python3",
      "display_name": "Python 3"
    },
    "language_info": {
      "name": "python"
    }
  },
  "cells": [
    {
      "cell_type": "markdown",
      "metadata": {
        "id": "view-in-github",
        "colab_type": "text"
      },
      "source": [
        "<a href=\"https://colab.research.google.com/github/sreekarannaluru/Wildfire-Competition/blob/main/NN_C_Lasso.ipynb\" target=\"_parent\"><img src=\"https://colab.research.google.com/assets/colab-badge.svg\" alt=\"Open In Colab\"/></a>"
      ]
    },
    {
      "cell_type": "code",
      "execution_count": null,
      "metadata": {
        "id": "Xn9S5m0A8d78"
      },
      "outputs": [],
      "source": [
        "import pandas as pd\n",
        "import numpy as np\n",
        "import math\n",
        "import matplotlib.pyplot as plt\n",
        "from sklearn.model_selection import train_test_split\n",
        "from tensorflow.keras import layers, models, datasets\n",
        "from sklearn import preprocessing\n",
        "from keras.optimizers import Adam"
      ]
    },
    {
      "cell_type": "code",
      "source": [
        "df_c = pd.read_excel(\"/content/Columbus.xlsx\")"
      ],
      "metadata": {
        "id": "OXI4JaNO8hAp"
      },
      "execution_count": null,
      "outputs": []
    },
    {
      "cell_type": "code",
      "source": [
        "del df_c[\"severerisk\"]"
      ],
      "metadata": {
        "id": "RQ4RESws8hFB"
      },
      "execution_count": null,
      "outputs": []
    },
    {
      "cell_type": "code",
      "source": [
        "# Normalize the variables\n",
        "df_c = (df_c - df_c.min())/(df_c.max() - df_c.min())"
      ],
      "metadata": {
        "id": "eLugBqgR8hJI"
      },
      "execution_count": null,
      "outputs": []
    },
    {
      "cell_type": "markdown",
      "source": [
        "##### Important Variables:  Dust + SoilMoisture + WindVelocity + Transpire + confidence + humidity + precipprob + snowdepth + sealevelpressure + cloudcover + moonphase"
      ],
      "metadata": {
        "id": "dNqXJDBk9Yqn"
      }
    },
    {
      "cell_type": "code",
      "source": [
        "# Use columbus data as test data.\n",
        "df_d = pd.read_excel(\"/content/Denver.xlsx\")"
      ],
      "metadata": {
        "id": "kYMl-TOR8hVN"
      },
      "execution_count": null,
      "outputs": []
    },
    {
      "cell_type": "code",
      "source": [
        "del df_d[\"severerisk\"]"
      ],
      "metadata": {
        "id": "RnAP2gLK8hZm"
      },
      "execution_count": null,
      "outputs": []
    },
    {
      "cell_type": "code",
      "source": [
        "# Normalize the variables\n",
        "df_d = (df_d - df_d.min())/(df_d.max() - df_d.min())"
      ],
      "metadata": {
        "id": "bncJJhfJ8hdT"
      },
      "execution_count": null,
      "outputs": []
    },
    {
      "cell_type": "code",
      "source": [
        "X = df_c.loc[:,['Dust', 'SoilMoisture', 'WindVelocity', 'humidity','precipprob', 'brightness',\n",
        "                'snowdepth' , 'sealevelpressure', 'visibility', 'cloudcover', 'moonphase']].values\n",
        "y = df_c.iloc[:,15].values"
      ],
      "metadata": {
        "id": "x-Ur06oy8ho4"
      },
      "execution_count": null,
      "outputs": []
    },
    {
      "cell_type": "code",
      "source": [
        "X_t = df_d.loc[:,[ 'Dust', 'SoilMoisture', 'WindVelocity',  'humidity','precipprob', 'brightness',\n",
        "                'snowdepth' , 'sealevelpressure', 'visibility', 'cloudcover', 'moonphase']].values\n",
        "y_t = df_d.iloc[:,15].values"
      ],
      "metadata": {
        "id": "1LQv8_R48hsP"
      },
      "execution_count": null,
      "outputs": []
    },
    {
      "cell_type": "code",
      "source": [
        "# Create a sequential model\n",
        "model = models.Sequential()\n",
        "\n",
        "# Add the input layer with the specified number of features\n",
        "model.add(layers.Dense(32, input_dim= X.shape[1], activation='relu'))\n",
        "\n",
        "# Add one or more hidden layers\n",
        "model.add(layers.Dense(16, activation='relu'))\n",
        "model.add(layers.Dense(8, activation='relu'))\n",
        "\n",
        "# Add the output layer with a single neuron (since this is a regression problem)\n",
        "model.add(layers.Dense(1))"
      ],
      "metadata": {
        "id": "9tLIHQG08hyR"
      },
      "execution_count": null,
      "outputs": []
    },
    {
      "cell_type": "code",
      "source": [
        "# Compile the model\n",
        "model.compile(optimizer='adam', loss='mean_squared_error', metrics=['mean_absolute_error'])\n",
        "\n",
        "# Train the model\n",
        "history = model.fit(X, y, epochs=25, batch_size=32, validation_data=(X_t, y_t))"
      ],
      "metadata": {
        "colab": {
          "base_uri": "https://localhost:8080/"
        },
        "id": "yub4gAonZ-f0",
        "outputId": "6a267b37-5056-4b38-d69a-bd19812ad5e4"
      },
      "execution_count": null,
      "outputs": [
        {
          "output_type": "stream",
          "name": "stdout",
          "text": [
            "Epoch 1/25\n",
            "4/4 [==============================] - 1s 60ms/step - loss: 0.7606 - mean_absolute_error: 0.8452 - val_loss: 0.8151 - val_mean_absolute_error: 0.8860\n",
            "Epoch 2/25\n",
            "4/4 [==============================] - 0s 13ms/step - loss: 0.5931 - mean_absolute_error: 0.7399 - val_loss: 0.6779 - val_mean_absolute_error: 0.8047\n",
            "Epoch 3/25\n",
            "4/4 [==============================] - 0s 15ms/step - loss: 0.4675 - mean_absolute_error: 0.6496 - val_loss: 0.5689 - val_mean_absolute_error: 0.7345\n",
            "Epoch 4/25\n",
            "4/4 [==============================] - 0s 21ms/step - loss: 0.3674 - mean_absolute_error: 0.5682 - val_loss: 0.4782 - val_mean_absolute_error: 0.6715\n",
            "Epoch 5/25\n",
            "4/4 [==============================] - 0s 20ms/step - loss: 0.2888 - mean_absolute_error: 0.4953 - val_loss: 0.4059 - val_mean_absolute_error: 0.6171\n",
            "Epoch 6/25\n",
            "4/4 [==============================] - 0s 18ms/step - loss: 0.2280 - mean_absolute_error: 0.4321 - val_loss: 0.3555 - val_mean_absolute_error: 0.5763\n",
            "Epoch 7/25\n",
            "4/4 [==============================] - 0s 19ms/step - loss: 0.1830 - mean_absolute_error: 0.3790 - val_loss: 0.3223 - val_mean_absolute_error: 0.5481\n",
            "Epoch 8/25\n",
            "4/4 [==============================] - 0s 13ms/step - loss: 0.1510 - mean_absolute_error: 0.3370 - val_loss: 0.2945 - val_mean_absolute_error: 0.5231\n",
            "Epoch 9/25\n",
            "4/4 [==============================] - 0s 19ms/step - loss: 0.1261 - mean_absolute_error: 0.3018 - val_loss: 0.2684 - val_mean_absolute_error: 0.4980\n",
            "Epoch 10/25\n",
            "4/4 [==============================] - 0s 19ms/step - loss: 0.1076 - mean_absolute_error: 0.2707 - val_loss: 0.2416 - val_mean_absolute_error: 0.4706\n",
            "Epoch 11/25\n",
            "4/4 [==============================] - 0s 18ms/step - loss: 0.0900 - mean_absolute_error: 0.2408 - val_loss: 0.2153 - val_mean_absolute_error: 0.4420\n",
            "Epoch 12/25\n",
            "4/4 [==============================] - 0s 19ms/step - loss: 0.0765 - mean_absolute_error: 0.2138 - val_loss: 0.1899 - val_mean_absolute_error: 0.4130\n",
            "Epoch 13/25\n",
            "4/4 [==============================] - 0s 14ms/step - loss: 0.0654 - mean_absolute_error: 0.1912 - val_loss: 0.1669 - val_mean_absolute_error: 0.3848\n",
            "Epoch 14/25\n",
            "4/4 [==============================] - 0s 13ms/step - loss: 0.0568 - mean_absolute_error: 0.1765 - val_loss: 0.1477 - val_mean_absolute_error: 0.3598\n",
            "Epoch 15/25\n",
            "4/4 [==============================] - 0s 27ms/step - loss: 0.0511 - mean_absolute_error: 0.1696 - val_loss: 0.1320 - val_mean_absolute_error: 0.3381\n",
            "Epoch 16/25\n",
            "4/4 [==============================] - 0s 19ms/step - loss: 0.0475 - mean_absolute_error: 0.1652 - val_loss: 0.1195 - val_mean_absolute_error: 0.3196\n",
            "Epoch 17/25\n",
            "4/4 [==============================] - 0s 14ms/step - loss: 0.0460 - mean_absolute_error: 0.1637 - val_loss: 0.1093 - val_mean_absolute_error: 0.3038\n",
            "Epoch 18/25\n",
            "4/4 [==============================] - 0s 18ms/step - loss: 0.0450 - mean_absolute_error: 0.1633 - val_loss: 0.1024 - val_mean_absolute_error: 0.2927\n",
            "Epoch 19/25\n",
            "4/4 [==============================] - 0s 14ms/step - loss: 0.0448 - mean_absolute_error: 0.1641 - val_loss: 0.0981 - val_mean_absolute_error: 0.2857\n",
            "Epoch 20/25\n",
            "4/4 [==============================] - 0s 13ms/step - loss: 0.0445 - mean_absolute_error: 0.1636 - val_loss: 0.0969 - val_mean_absolute_error: 0.2838\n",
            "Epoch 21/25\n",
            "4/4 [==============================] - 0s 17ms/step - loss: 0.0442 - mean_absolute_error: 0.1632 - val_loss: 0.0975 - val_mean_absolute_error: 0.2851\n",
            "Epoch 22/25\n",
            "4/4 [==============================] - 0s 14ms/step - loss: 0.0437 - mean_absolute_error: 0.1621 - val_loss: 0.0977 - val_mean_absolute_error: 0.2858\n",
            "Epoch 23/25\n",
            "4/4 [==============================] - 0s 21ms/step - loss: 0.0432 - mean_absolute_error: 0.1612 - val_loss: 0.0991 - val_mean_absolute_error: 0.2883\n",
            "Epoch 24/25\n",
            "4/4 [==============================] - 0s 19ms/step - loss: 0.0427 - mean_absolute_error: 0.1599 - val_loss: 0.1014 - val_mean_absolute_error: 0.2924\n",
            "Epoch 25/25\n",
            "4/4 [==============================] - 0s 17ms/step - loss: 0.0423 - mean_absolute_error: 0.1588 - val_loss: 0.1037 - val_mean_absolute_error: 0.2964\n"
          ]
        }
      ]
    },
    {
      "cell_type": "code",
      "source": [
        "# Evaluate the model on test data\n",
        "# Reverse normalizing the output. 26 is the difference between maximum and minimum value of brightness.\n",
        "test_loss, test_err = model.evaluate(X_t, y_t, verbose=2)\n",
        "print('Mean Squared Error:',  math.sqrt(test_loss*108)*26)\n",
        "print('Mean Absolute Error:', 26*test_err)"
      ],
      "metadata": {
        "colab": {
          "base_uri": "https://localhost:8080/"
        },
        "id": "eO4ObBNFZ-k3",
        "outputId": "a048443f-c445-40d0-a528-9b3ee3d02a9d"
      },
      "execution_count": null,
      "outputs": [
        {
          "output_type": "stream",
          "name": "stdout",
          "text": [
            "4/4 - 0s - loss: 0.1037 - mean_absolute_error: 0.2964 - 27ms/epoch - 7ms/step\n",
            "Mean Squared Error: 87.02216471535715\n",
            "Mean Absolute Error: 7.706318914890289\n"
          ]
        }
      ]
    },
    {
      "cell_type": "code",
      "source": [
        "#Automatically capturing losses from each epoch\n",
        "val_loss = history.history['val_loss']\n",
        "\n",
        "for i in range(0, len(val_loss)):\n",
        "  val_loss[i] = (math.sqrt((val_loss[i])*108)*26)\n",
        "\n",
        "\n",
        "#Plot the loses\n",
        "plt.plot(val_loss, label='Validation Loss')\n",
        "plt.xlabel('Epoch')\n",
        "plt.ylabel('Test_MSE')\n",
        "plt.legend()\n",
        "plt.show()"
      ],
      "metadata": {
        "colab": {
          "base_uri": "https://localhost:8080/",
          "height": 449
        },
        "id": "QlIHTsGPZ-pA",
        "outputId": "09b74e0c-ed02-4270-b813-2743a5b49323"
      },
      "execution_count": null,
      "outputs": [
        {
          "output_type": "display_data",
          "data": {
            "text/plain": [
              "<Figure size 640x480 with 1 Axes>"
            ],
            "image/png": "[encoded data removed]"
          },
          "metadata": {}
        }
      ]
    },
    {
      "cell_type": "markdown",
      "source": [
        "### Future work and recommendations.\n",
        "\n",
        "##### 1) NN is a great tool in understanding wildfire and we want to improve our model.\n",
        "##### 2) Adding more variables and improving test accuracy.\n",
        "##### 3) Integrating these results in dashboard which is easy to explain.\n",
        "##### 4) Consulting experts in the domain to built robust models.\n",
        "##### 5) Integration with GIS systems\n",
        "##### 6) Closing following the work being done by people in academia and startups in this space."
      ],
      "metadata": {
        "id": "yPtL2Sx0db6e"
      }
    }
  ]
}